{
 "cells": [
  {
   "cell_type": "markdown",
   "id": "63feea8d",
   "metadata": {},
   "source": [
    "# Data Science Tools and Ecosystem"
   ]
  },
  {
   "cell_type": "markdown",
   "id": "d5ed0512",
   "metadata": {},
   "source": [
    "In this notebook, Data Science Tools and Ecosystem are summarized."
   ]
  },
  {
   "cell_type": "markdown",
   "id": "0ffea393",
   "metadata": {},
   "source": [
    "**Objectives:**\n",
    "\n",
    "- List popular languages for Data Science.\n",
    "\n",
    "- Get to know popular languages for DS.\n",
    "\n",
    "- Acknowledge some common libraries used in DS.\n",
    "\n",
    "- Recognize the arithmetic operation available in Python.\n"
   ]
  },
  {
   "cell_type": "markdown",
   "id": "4839374a",
   "metadata": {},
   "source": [
    "Some of the popular languages that Data Scientists use are:\n",
    "1. Python\n",
    "2. JAVA\n",
    "3. R"
   ]
  },
  {
   "cell_type": "markdown",
   "id": "2dde3352",
   "metadata": {},
   "source": [
    "Some of the commonly used libraries used by Data Scientists include:\n",
    "- Pandas\n",
    "- NumPy\n",
    "- PyPlot"
   ]
  },
  {
   "cell_type": "markdown",
   "id": "2d3ef65a",
   "metadata": {},
   "source": [
    "| Data Science Tools |\n",
    "|-------------------|\n",
    "| RStudio |\n",
    "| ApacheSpark |\n",
    "|TensorFlow | "
   ]
  },
  {
   "cell_type": "markdown",
   "id": "09dc38d9",
   "metadata": {},
   "source": [
    "### Below are a few examples of evaluating arithmetic expressions in Python\n",
    "\n",
    "- Addition:\n",
    "    x+y=z\n",
    "- Multiplication:\n",
    "    x*y=z\n",
    "- Division:\n",
    "    x/y=z"
   ]
  },
  {
   "cell_type": "code",
   "execution_count": 3,
   "id": "8a8a9aa1",
   "metadata": {},
   "outputs": [
    {
     "name": "stdout",
     "output_type": "stream",
     "text": [
      "17\n"
     ]
    }
   ],
   "source": [
    "x=(3*4)+5\n",
    "\n",
    "#This a simple arithmetic expression to mutiply then add integers\n",
    "\n",
    "print(x)"
   ]
  },
  {
   "cell_type": "code",
   "execution_count": 4,
   "id": "77200364",
   "metadata": {},
   "outputs": [
    {
     "name": "stdout",
     "output_type": "stream",
     "text": [
      "3.3333333333333335\n"
     ]
    }
   ],
   "source": [
    "x=(200/60)\n",
    "\n",
    "#This will convert 200 minutes to hours by diving by 60\n",
    "\n",
    "print (x)"
   ]
  },
  {
   "cell_type": "markdown",
   "id": "ecc338f5",
   "metadata": {},
   "source": [
    "## Author\n",
    "Juan Bravo"
   ]
  },
  {
   "cell_type": "code",
   "execution_count": null,
   "id": "ac6d3a65",
   "metadata": {},
   "outputs": [],
   "source": []
  }
 ],
 "metadata": {
  "kernelspec": {
   "display_name": "Python 3 (ipykernel)",
   "language": "python",
   "name": "python3"
  },
  "language_info": {
   "codemirror_mode": {
    "name": "ipython",
    "version": 3
   },
   "file_extension": ".py",
   "mimetype": "text/x-python",
   "name": "python",
   "nbconvert_exporter": "python",
   "pygments_lexer": "ipython3",
   "version": "3.11.3"
  }
 },
 "nbformat": 4,
 "nbformat_minor": 5
}
